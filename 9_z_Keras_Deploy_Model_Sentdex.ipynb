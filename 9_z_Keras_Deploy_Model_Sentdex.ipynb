{
  "nbformat": 4,
  "nbformat_minor": 0,
  "metadata": {
    "colab": {
      "name": "9.z.Keras.Deploy_Model_Sentdex.ipynb",
      "provenance": [],
      "authorship_tag": "ABX9TyOv/YwRxKewJKACY4NuSvky",
      "include_colab_link": true
    },
    "kernelspec": {
      "name": "python3",
      "display_name": "Python 3"
    }
  },
  "cells": [
    {
      "cell_type": "markdown",
      "metadata": {
        "id": "view-in-github",
        "colab_type": "text"
      },
      "source": [
        "<a href=\"https://colab.research.google.com/github/bsong75/brendensong-portfolio/blob/master/9_z_Keras_Deploy_Model_Sentdex.ipynb\" target=\"_parent\"><img src=\"https://colab.research.google.com/assets/colab-badge.svg\" alt=\"Open In Colab\"/></a>"
      ]
    },
    {
      "cell_type": "code",
      "metadata": {
        "id": "hdOm37CGaIPO"
      },
      "source": [
        "from tensorflow.keras.models import Sequential\r\n",
        "from tensorflow.keras.layers import Dense, Dropout, Activation, Flatten\r\n",
        "from tensorflow.keras.layers import Conv2D, MaxPooling2D\r\n",
        "# more info on callbakcs: https://keras.io/callbacks/ model saver is cool too.\r\n",
        "from tensorflow.keras.callbacks import TensorBoard\r\n",
        "import pickle\r\n",
        "import time\r\n",
        "\r\n",
        "pickle_in = open(\"X.pickle\",\"rb\")\r\n",
        "X = pickle.load(pickle_in)\r\n",
        "\r\n",
        "pickle_in = open(\"y.pickle\",\"rb\")\r\n",
        "y = pickle.load(pickle_in)\r\n",
        "\r\n",
        "X = X/255.0\r\n",
        "\r\n",
        "dense_layers = [0]\r\n",
        "layer_sizes = [64]\r\n",
        "conv_layers = [3]\r\n",
        "\r\n",
        "for dense_layer in dense_layers:\r\n",
        "    for layer_size in layer_sizes:\r\n",
        "        for conv_layer in conv_layers:\r\n",
        "            NAME = \"{}-conv-{}-nodes-{}-dense-{}\".format(conv_layer, layer_size, dense_layer, int(time.time()))\r\n",
        "            print(NAME)\r\n",
        "\r\n",
        "            model = Sequential()\r\n",
        "\r\n",
        "            model.add(Conv2D(layer_size, (3, 3), input_shape=X.shape[1:]))\r\n",
        "            model.add(Activation('relu'))\r\n",
        "            model.add(MaxPooling2D(pool_size=(2, 2)))\r\n",
        "\r\n",
        "            for l in range(conv_layer-1):\r\n",
        "                model.add(Conv2D(layer_size, (3, 3)))\r\n",
        "                model.add(Activation('relu'))\r\n",
        "                model.add(MaxPooling2D(pool_size=(2, 2)))\r\n",
        "\r\n",
        "            model.add(Flatten())\r\n",
        "\r\n",
        "            for _ in range(dense_layer):\r\n",
        "                model.add(Dense(layer_size))\r\n",
        "                model.add(Activation('relu'))\r\n",
        "\r\n",
        "            model.add(Dense(1))\r\n",
        "            model.add(Activation('sigmoid'))\r\n",
        "\r\n",
        "            tensorboard = TensorBoard(log_dir=\"logs/{}\".format(NAME))\r\n",
        "\r\n",
        "            model.compile(loss='binary_crossentropy',\r\n",
        "                          optimizer='adam',\r\n",
        "                          metrics=['accuracy'],\r\n",
        "                          )\r\n",
        "\r\n",
        "            model.fit(X, y,\r\n",
        "                      batch_size=32,\r\n",
        "                      epochs=10,\r\n",
        "                      validation_split=0.3,\r\n",
        "                      callbacks=[tensorboard])\r\n",
        "\r\n",
        "model.save('64x3-CNN.model')"
      ],
      "execution_count": null,
      "outputs": []
    },
    {
      "cell_type": "code",
      "metadata": {
        "id": "6JF55OoAaaeW"
      },
      "source": [
        "import cv2\r\n",
        "import tensorflow as tf\r\n",
        "\r\n",
        "CATEGORIES = [\"Dog\", \"Cat\"]\r\n",
        "\r\n",
        "\r\n",
        "def prepare(filepath):\r\n",
        "    IMG_SIZE = 70  # 50 in txt-based\r\n",
        "    img_array = cv2.imread(filepath, cv2.IMREAD_GRAYSCALE)\r\n",
        "    new_array = cv2.resize(img_array, (IMG_SIZE, IMG_SIZE))\r\n",
        "    return new_array.reshape(-1, IMG_SIZE, IMG_SIZE, 1)\r\n",
        "\r\n",
        "\r\n",
        "model = tf.keras.models.load_model(\"64x3-CNN.model\")\r\n",
        "\r\n",
        "prediction = model.predict([prepare('doggo.jpg')])\r\n",
        "print(prediction)  # will be a list in a list.\r\n",
        "print(CATEGORIES[int(prediction[0][0])])"
      ],
      "execution_count": null,
      "outputs": []
    }
  ]
}