{
  "nbformat": 4,
  "nbformat_minor": 0,
  "metadata": {
    "colab": {
      "name": "9.b.Keras_Exprimental drug.ipynb",
      "provenance": [],
      "collapsed_sections": [],
      "authorship_tag": "ABX9TyN4fwP3ZBcFt7uKFMuHYTQb",
      "include_colab_link": true
    },
    "kernelspec": {
      "name": "python3",
      "display_name": "Python 3"
    },
    "accelerator": "GPU"
  },
  "cells": [
    {
      "cell_type": "markdown",
      "metadata": {
        "id": "view-in-github",
        "colab_type": "text"
      },
      "source": [
        "<a href=\"https://colab.research.google.com/github/bsong75/brendensong-portfolio/blob/master/9_b_Keras_Exprimental_drug.ipynb\" target=\"_parent\"><img src=\"https://colab.research.google.com/assets/colab-badge.svg\" alt=\"Open In Colab\"/></a>"
      ]
    },
    {
      "cell_type": "code",
      "metadata": {
        "id": "AeuBOTc9L4dD"
      },
      "source": [
        "import numpy as np\r\n",
        "from random import randint\r\n",
        "from sklearn.utils import shuffle\r\n",
        "from sklearn.preprocessing import MinMaxScaler"
      ],
      "execution_count": 8,
      "outputs": []
    },
    {
      "cell_type": "code",
      "metadata": {
        "id": "kF88NL0eNSgP"
      },
      "source": [
        "train_labels=[]\r\n",
        "train_samples=[]\r\n"
      ],
      "execution_count": 9,
      "outputs": []
    },
    {
      "cell_type": "code",
      "metadata": {
        "id": "j5vl84DiNXte"
      },
      "source": [
        "# 1. Randomly generate observations and labels\r\n",
        "\r\n",
        "for i in range(50):\r\n",
        "    # The younger individuals who did experience side effects\r\n",
        "    random_younger= randint(13,64)\r\n",
        "    train_samples.append(random_younger)\r\n",
        "    train_labels.append(1)\r\n",
        "\r\n",
        "    #Old who did not expereince side effects\r\n",
        "    random_older= randint(65,100)\r\n",
        "    train_samples.append(random_older)\r\n",
        "    train_labels.append(0)\r\n",
        "\r\n",
        "for i in range(1000):\r\n",
        "    #95% of younger did not have side effects\r\n",
        "    random_younger=randint(16,64)\r\n",
        "    train_samples.append(random_younger)\r\n",
        "    train_labels.append(0)\r\n",
        "\r\n",
        "    random_older=randint(65,100)\r\n",
        "    train_samples.append(random_older)\r\n",
        "    train_labels.append(1)\r\n"
      ],
      "execution_count": 10,
      "outputs": []
    },
    {
      "cell_type": "code",
      "metadata": {
        "colab": {
          "base_uri": "https://localhost:8080/"
        },
        "id": "ob5S2E4KPHBg",
        "outputId": "0beaf5ab-b8aa-458d-b2ed-9e6b24aaf737"
      },
      "source": [
        "print(len(train_labels), len(train_samples))\r\n"
      ],
      "execution_count": 11,
      "outputs": [
        {
          "output_type": "stream",
          "text": [
            "2100 2100\n"
          ],
          "name": "stdout"
        }
      ]
    },
    {
      "cell_type": "code",
      "metadata": {
        "id": "zx9cLLyxPWWP"
      },
      "source": [
        "# 2. Transform list to np.arrays and scale\r\n",
        "\r\n",
        "train_labels=np.array(train_labels)\r\n",
        "train_samples=np.array(train_samples)\r\n",
        "train_labels, train_samples = shuffle(train_labels, train_samples)\r\n",
        "scaler=MinMaxScaler(feature_range=(0,1))\r\n",
        "scaled_train_samples=scaler.fit_transform(train_samples.reshape(-1,1))\r\n"
      ],
      "execution_count": 12,
      "outputs": []
    },
    {
      "cell_type": "code",
      "metadata": {
        "id": "T14lIHkwuFCZ"
      },
      "source": [
        "\r\n",
        "\r\n"
      ],
      "execution_count": 13,
      "outputs": []
    },
    {
      "cell_type": "code",
      "metadata": {
        "colab": {
          "base_uri": "https://localhost:8080/"
        },
        "id": "rVz02kBOuE6t",
        "outputId": "73ec940d-51bb-4415-f757-6610288599e0"
      },
      "source": [
        "#check to make sure it is the right type\r\n",
        "type(scaled_train_samples)"
      ],
      "execution_count": 14,
      "outputs": [
        {
          "output_type": "execute_result",
          "data": {
            "text/plain": [
              "numpy.ndarray"
            ]
          },
          "metadata": {
            "tags": []
          },
          "execution_count": 14
        }
      ]
    },
    {
      "cell_type": "code",
      "metadata": {
        "colab": {
          "base_uri": "https://localhost:8080/"
        },
        "id": "08-BL924uEth",
        "outputId": "d2a0e47f-4673-404f-be7d-a7e7150b7175"
      },
      "source": [
        "#check to make sure it is in the right format\r\n",
        "scaled_train_samples"
      ],
      "execution_count": 15,
      "outputs": [
        {
          "output_type": "execute_result",
          "data": {
            "text/plain": [
              "array([[0.83908046],\n",
              "       [0.35632184],\n",
              "       [0.45977011],\n",
              "       ...,\n",
              "       [0.33333333],\n",
              "       [0.8045977 ],\n",
              "       [0.86206897]])"
            ]
          },
          "metadata": {
            "tags": []
          },
          "execution_count": 15
        }
      ]
    },
    {
      "cell_type": "code",
      "metadata": {
        "id": "9UaB6Pkyw0NS"
      },
      "source": [
        "#2. Build the model\r\n",
        "import tensorflow as tf\r\n",
        "from tensorflow import keras\r\n",
        "from tensorflow.keras.models import Sequential\r\n",
        "from tensorflow.keras.layers import Activation, Dense\r\n",
        "from tensorflow.keras.optimizers import Adam\r\n",
        "from tensorflow.keras.metrics import categorical_crossentropy"
      ],
      "execution_count": 1,
      "outputs": []
    },
    {
      "cell_type": "code",
      "metadata": {
        "colab": {
          "base_uri": "https://localhost:8080/"
        },
        "id": "bK7f-bISzJgu",
        "outputId": "824f4d98-17e2-49fd-bf99-62ea314827eb"
      },
      "source": [
        "physical_device = tf.config.experimental.list_physical_devices('GPU')\r\n",
        "print(\"Num GPUs Available: \", len(physical_device))\r\n",
        "tf.config.experimental.set_memory_growth(physical_device[0], True)\r\n"
      ],
      "execution_count": 2,
      "outputs": [
        {
          "output_type": "stream",
          "text": [
            "Num GPUs Available:  1\n"
          ],
          "name": "stdout"
        }
      ]
    },
    {
      "cell_type": "code",
      "metadata": {
        "id": "pFmW-nhYznZ_"
      },
      "source": [
        "model=Sequential([\r\n",
        "    Dense(16, input_shape=(1,), activation='relu'),\r\n",
        "    Dense(32, activation='relu'),\r\n",
        "    Dense(2, activation='softmax')                  \r\n",
        "])"
      ],
      "execution_count": 5,
      "outputs": []
    },
    {
      "cell_type": "code",
      "metadata": {
        "colab": {
          "base_uri": "https://localhost:8080/"
        },
        "id": "H0xWlmRb1Ild",
        "outputId": "af2e0d62-73b6-47c8-c6c6-a7b60b8bfb46"
      },
      "source": [
        "model.summary()"
      ],
      "execution_count": 6,
      "outputs": [
        {
          "output_type": "stream",
          "text": [
            "Model: \"sequential\"\n",
            "_________________________________________________________________\n",
            "Layer (type)                 Output Shape              Param #   \n",
            "=================================================================\n",
            "dense (Dense)                (None, 16)                32        \n",
            "_________________________________________________________________\n",
            "dense_1 (Dense)              (None, 32)                544       \n",
            "_________________________________________________________________\n",
            "dense_2 (Dense)              (None, 2)                 66        \n",
            "=================================================================\n",
            "Total params: 642\n",
            "Trainable params: 642\n",
            "Non-trainable params: 0\n",
            "_________________________________________________________________\n"
          ],
          "name": "stdout"
        }
      ]
    },
    {
      "cell_type": "code",
      "metadata": {
        "id": "aQMPxLVd1Iza"
      },
      "source": [
        "model.compile(optimizer=Adam(learning_rate=0.0001), \r\n",
        "              loss='sparse_categorical_crossentropy', \r\n",
        "              metrics=['accuracy'])"
      ],
      "execution_count": 19,
      "outputs": []
    },
    {
      "cell_type": "code",
      "metadata": {
        "colab": {
          "base_uri": "https://localhost:8080/"
        },
        "id": "eQ3P2OgQ1I3n",
        "outputId": "e7b6fefc-d6db-403d-dc3a-057e3e78dece"
      },
      "source": [
        "# 3. train the model--validation set 0.1  --shuffle=True\r\n",
        "model.fit(x=scaled_train_samples, y=train_labels, validation_split=0.1, batch_size=10, epochs=30, verbose=2)"
      ],
      "execution_count": 22,
      "outputs": [
        {
          "output_type": "stream",
          "text": [
            "Epoch 1/30\n",
            "189/189 - 0s - loss: 0.2715 - accuracy: 0.9386 - val_loss: 0.2802 - val_accuracy: 0.9476\n",
            "Epoch 2/30\n",
            "189/189 - 0s - loss: 0.2703 - accuracy: 0.9407 - val_loss: 0.2793 - val_accuracy: 0.9476\n",
            "Epoch 3/30\n",
            "189/189 - 0s - loss: 0.2691 - accuracy: 0.9392 - val_loss: 0.2783 - val_accuracy: 0.9476\n",
            "Epoch 4/30\n",
            "189/189 - 0s - loss: 0.2680 - accuracy: 0.9423 - val_loss: 0.2772 - val_accuracy: 0.9429\n",
            "Epoch 5/30\n",
            "189/189 - 0s - loss: 0.2670 - accuracy: 0.9439 - val_loss: 0.2761 - val_accuracy: 0.9476\n",
            "Epoch 6/30\n",
            "189/189 - 0s - loss: 0.2660 - accuracy: 0.9429 - val_loss: 0.2750 - val_accuracy: 0.9429\n",
            "Epoch 7/30\n",
            "189/189 - 0s - loss: 0.2653 - accuracy: 0.9423 - val_loss: 0.2740 - val_accuracy: 0.9476\n",
            "Epoch 8/30\n",
            "189/189 - 0s - loss: 0.2644 - accuracy: 0.9434 - val_loss: 0.2731 - val_accuracy: 0.9476\n",
            "Epoch 9/30\n",
            "189/189 - 0s - loss: 0.2635 - accuracy: 0.9434 - val_loss: 0.2721 - val_accuracy: 0.9476\n",
            "Epoch 10/30\n",
            "189/189 - 0s - loss: 0.2627 - accuracy: 0.9444 - val_loss: 0.2712 - val_accuracy: 0.9476\n",
            "Epoch 11/30\n",
            "189/189 - 0s - loss: 0.2621 - accuracy: 0.9444 - val_loss: 0.2704 - val_accuracy: 0.9476\n",
            "Epoch 12/30\n",
            "189/189 - 0s - loss: 0.2614 - accuracy: 0.9444 - val_loss: 0.2697 - val_accuracy: 0.9476\n",
            "Epoch 13/30\n",
            "189/189 - 0s - loss: 0.2609 - accuracy: 0.9413 - val_loss: 0.2691 - val_accuracy: 0.9476\n",
            "Epoch 14/30\n",
            "189/189 - 0s - loss: 0.2603 - accuracy: 0.9444 - val_loss: 0.2685 - val_accuracy: 0.9476\n",
            "Epoch 15/30\n",
            "189/189 - 0s - loss: 0.2598 - accuracy: 0.9444 - val_loss: 0.2678 - val_accuracy: 0.9476\n",
            "Epoch 16/30\n",
            "189/189 - 0s - loss: 0.2593 - accuracy: 0.9444 - val_loss: 0.2672 - val_accuracy: 0.9476\n",
            "Epoch 17/30\n",
            "189/189 - 0s - loss: 0.2589 - accuracy: 0.9444 - val_loss: 0.2667 - val_accuracy: 0.9476\n",
            "Epoch 18/30\n",
            "189/189 - 0s - loss: 0.2585 - accuracy: 0.9444 - val_loss: 0.2660 - val_accuracy: 0.9476\n",
            "Epoch 19/30\n",
            "189/189 - 0s - loss: 0.2579 - accuracy: 0.9423 - val_loss: 0.2656 - val_accuracy: 0.9476\n",
            "Epoch 20/30\n",
            "189/189 - 0s - loss: 0.2575 - accuracy: 0.9444 - val_loss: 0.2651 - val_accuracy: 0.9476\n",
            "Epoch 21/30\n",
            "189/189 - 0s - loss: 0.2571 - accuracy: 0.9444 - val_loss: 0.2646 - val_accuracy: 0.9476\n",
            "Epoch 22/30\n",
            "189/189 - 0s - loss: 0.2568 - accuracy: 0.9444 - val_loss: 0.2641 - val_accuracy: 0.9476\n",
            "Epoch 23/30\n",
            "189/189 - 0s - loss: 0.2565 - accuracy: 0.9444 - val_loss: 0.2637 - val_accuracy: 0.9476\n",
            "Epoch 24/30\n",
            "189/189 - 0s - loss: 0.2560 - accuracy: 0.9444 - val_loss: 0.2634 - val_accuracy: 0.9476\n",
            "Epoch 25/30\n",
            "189/189 - 0s - loss: 0.2557 - accuracy: 0.9444 - val_loss: 0.2630 - val_accuracy: 0.9476\n",
            "Epoch 26/30\n",
            "189/189 - 0s - loss: 0.2553 - accuracy: 0.9434 - val_loss: 0.2627 - val_accuracy: 0.9476\n",
            "Epoch 27/30\n",
            "189/189 - 0s - loss: 0.2550 - accuracy: 0.9444 - val_loss: 0.2622 - val_accuracy: 0.9476\n",
            "Epoch 28/30\n",
            "189/189 - 0s - loss: 0.2548 - accuracy: 0.9444 - val_loss: 0.2619 - val_accuracy: 0.9476\n",
            "Epoch 29/30\n",
            "189/189 - 0s - loss: 0.2545 - accuracy: 0.9460 - val_loss: 0.2615 - val_accuracy: 0.9476\n",
            "Epoch 30/30\n",
            "189/189 - 0s - loss: 0.2542 - accuracy: 0.9444 - val_loss: 0.2612 - val_accuracy: 0.9476\n"
          ],
          "name": "stdout"
        },
        {
          "output_type": "execute_result",
          "data": {
            "text/plain": [
              "<tensorflow.python.keras.callbacks.History at 0x7fc8b347db70>"
            ]
          },
          "metadata": {
            "tags": []
          },
          "execution_count": 22
        }
      ]
    },
    {
      "cell_type": "code",
      "metadata": {
        "colab": {
          "base_uri": "https://localhost:8080/"
        },
        "id": "YvNcm20p0zGh",
        "outputId": "64ca32b5-419a-4454-80db-f4d687ba22d9"
      },
      "source": [
        ""
      ],
      "execution_count": 21,
      "outputs": [
        {
          "output_type": "stream",
          "text": [
            "66/66 [==============================] - 0s 2ms/step - loss: 0.2727 - accuracy: 0.9381\n",
            "0.27268290519714355 0.938095211982727\n"
          ],
          "name": "stdout"
        }
      ]
    },
    {
      "cell_type": "code",
      "metadata": {
        "id": "dpID3ek_4pKu"
      },
      "source": [
        "#test on the new dataset\r\n",
        "#1. create the test set.\r\n",
        "\r\n",
        "test_labels=[]\r\n",
        "test_samples=[]\r\n",
        "\r\n",
        "for i in range(10):\r\n",
        "    # The younger individuals who did experience side effects\r\n",
        "    random_younger= randint(13,64)\r\n",
        "    test_samples.append(random_younger)\r\n",
        "    test_labels.append(1)\r\n",
        "\r\n",
        "    #Old who did not expereince side effects\r\n",
        "    random_older= randint(65,100)\r\n",
        "    test_samples.append(random_older)\r\n",
        "    test_labels.append(0)\r\n",
        "\r\n",
        "for i in range(200):\r\n",
        "    #95% of younger did not have side effects\r\n",
        "    random_younger=randint(16,64)\r\n",
        "    test_samples.append(random_younger)\r\n",
        "    test_labels.append(0)\r\n",
        "\r\n",
        "    random_older=randint(65,100)\r\n",
        "    test_samples.append(random_older)\r\n",
        "    test_labels.append(1)\r\n"
      ],
      "execution_count": 23,
      "outputs": []
    },
    {
      "cell_type": "code",
      "metadata": {
        "id": "ZYgOwXea7IUQ"
      },
      "source": [
        "# 2. Transform list to np.arrays and scale\r\n",
        "\r\n",
        "test_labels=np.array(test_labels)\r\n",
        "test_samples=np.array(test_samples)\r\n",
        "test_labels, test_samples = shuffle(test_labels, test_samples)\r\n"
      ],
      "execution_count": 29,
      "outputs": []
    },
    {
      "cell_type": "code",
      "metadata": {
        "id": "zz_x9zZq8HF5"
      },
      "source": [
        "scaler=MinMaxScaler(feature_range=(0,1))\r\n",
        "scaled_test_samples=scaler.fit_transform(test_samples.reshape(-1,1))"
      ],
      "execution_count": 30,
      "outputs": []
    },
    {
      "cell_type": "code",
      "metadata": {
        "colab": {
          "base_uri": "https://localhost:8080/"
        },
        "id": "EJc-UqOS7IPm",
        "outputId": "5a5c8495-227e-42a9-8ddf-64a66a564db8"
      },
      "source": [
        "print(type(test_labels), type(test_samples))"
      ],
      "execution_count": 31,
      "outputs": [
        {
          "output_type": "stream",
          "text": [
            "<class 'numpy.ndarray'> <class 'numpy.ndarray'>\n"
          ],
          "name": "stdout"
        }
      ]
    },
    {
      "cell_type": "code",
      "metadata": {
        "id": "Gsy_h_rq7H7N"
      },
      "source": [
        "scaled_test_samples"
      ],
      "execution_count": null,
      "outputs": []
    },
    {
      "cell_type": "code",
      "metadata": {
        "id": "PH60Czde7oKS"
      },
      "source": [
        "#Predictions"
      ],
      "execution_count": null,
      "outputs": []
    },
    {
      "cell_type": "code",
      "metadata": {
        "id": "lFOzUtZi8WtI"
      },
      "source": [
        "predictions=model.predict(x=scaled_test_samples, batch_size=10)"
      ],
      "execution_count": 36,
      "outputs": []
    },
    {
      "cell_type": "code",
      "metadata": {
        "id": "izXusnCm8Wjd"
      },
      "source": [
        "for i in predictions:\r\n",
        "    print(i)"
      ],
      "execution_count": null,
      "outputs": []
    },
    {
      "cell_type": "code",
      "metadata": {
        "id": "mQJl-X808WUk"
      },
      "source": [
        "rounded_predictions=np.argmax(predictions, axis=-1)"
      ],
      "execution_count": 39,
      "outputs": []
    },
    {
      "cell_type": "code",
      "metadata": {
        "colab": {
          "base_uri": "https://localhost:8080/"
        },
        "id": "Jp6vsWSN9eUN",
        "outputId": "dd6d5489-65d7-4231-8230-ab68caf030ae"
      },
      "source": [
        "val_loss2, val_acc2=model.evaluate(scaled_test_samples, test_labels)\r\n",
        "print(val_loss2, val_acc2)"
      ],
      "execution_count": 40,
      "outputs": [
        {
          "output_type": "stream",
          "text": [
            "14/14 [==============================] - 0s 2ms/step - loss: 0.2484 - accuracy: 0.9524\n",
            "0.2483818382024765 0.9523809552192688\n"
          ],
          "name": "stdout"
        }
      ]
    },
    {
      "cell_type": "code",
      "metadata": {
        "id": "2msYuQcr96Mh"
      },
      "source": [
        "#Confusion Matrix\r\n",
        "%matplotlib inline\r\n",
        "from sklearn.metrics import confusion_matrix\r\n",
        "import itertools\r\n",
        "import matplotlib.pyplot as plt\r\n"
      ],
      "execution_count": 43,
      "outputs": []
    },
    {
      "cell_type": "code",
      "metadata": {
        "id": "AN20srnB-Wsd"
      },
      "source": [
        "cm=confusion_matrix(y_true=test_labels, y_pred=rounded_predictions)"
      ],
      "execution_count": 44,
      "outputs": []
    },
    {
      "cell_type": "code",
      "metadata": {
        "id": "WFwcwU_a-xBs"
      },
      "source": [
        "#copied from scikiLearn library for cofusion matrix\r\n",
        "\r\n",
        "def plot_confusion_matrix(cm, classes, \r\n",
        "                          normalize=False, \r\n",
        "                          title='Confusion Matrix',\r\n",
        "                          cmap=plt.cm.Blues):\r\n",
        "    plt.imshow(cm, interpolation='nearest', cmap=cmap)\r\n",
        "    plt.title(title)\r\n",
        "    plt.colorbar()\r\n",
        "    tick_marks=np.arange(len(classes))\r\n",
        "    plt.xticks(tick_marks, classes, rotation=45)\r\n",
        "    plt.yticks(tick_marks, classes)\r\n",
        "\r\n",
        "    if normalize:\r\n",
        "        cm = cm.astype('float')/cm.sum(axis=1)[:, npnewaxis]\r\n",
        "        print(\"Normalized confusion maxtrix\")\r\n",
        "    else:\r\n",
        "        print('Confusion Matrix, without normalization')\r\n",
        "    print(cm)\r\n",
        "\r\n",
        "    thresh=cm.max()/2\r\n",
        "    for i, j in itertools.product(range(cm.shape[0]), range(cm.shape[1])):\r\n",
        "        plt.text(j, i, cm[i,j], \r\n",
        "                   horizontalalignment='center',\r\n",
        "                   color='white' if cm[i,j] > thresh else \"black\")\r\n",
        "    plt.tight_layout()\r\n",
        "    plt.ylabel('True label')\r\n",
        "    plt.xlabel('Predicted label')\r\n",
        "    "
      ],
      "execution_count": 55,
      "outputs": []
    },
    {
      "cell_type": "code",
      "metadata": {
        "colab": {
          "base_uri": "https://localhost:8080/",
          "height": 362
        },
        "id": "JjlWE5-O-xS7",
        "outputId": "1d577b83-6c50-4885-af39-e60f68f3035d"
      },
      "source": [
        "cm_plot_labels=['no_side_effects', 'had_side_effects']\r\n",
        "plot_confusion_matrix(cm=cm, classes=cm_plot_labels, title='Confusion Matrix')"
      ],
      "execution_count": 56,
      "outputs": [
        {
          "output_type": "stream",
          "text": [
            "Confusion Matrix, without normalization\n",
            "[[200  10]\n",
            " [ 10 200]]\n"
          ],
          "name": "stdout"
        },
        {
          "output_type": "display_data",
          "data": {
            "image/png": "[encoded data removed]",
            "text/plain": [
              "<Figure size 432x288 with 2 Axes>"
            ]
          },
          "metadata": {
            "tags": [],
            "needs_background": "light"
          }
        }
      ]
    },
    {
      "cell_type": "code",
      "metadata": {
        "id": "Kt7JA84T-xfE"
      },
      "source": [
        ""
      ],
      "execution_count": null,
      "outputs": []
    }
  ]
}